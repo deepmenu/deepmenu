{
 "cells": [
  {
   "cell_type": "code",
   "execution_count": 24,
   "metadata": {},
   "outputs": [],
   "source": [
    "import numpy as np\n",
    "import pandas as pd\n",
    "\n",
    "import random\n",
    "\n",
    "from matplotlib import pyplot as plt\n",
    "\n",
    "import warnings\n",
    "from sklearn.metrics import pairwise_distances\n",
    "\n",
    "\n",
    "warnings.filterwarnings('ignore')"
   ]
  },
  {
   "cell_type": "code",
   "execution_count": 2,
   "metadata": {},
   "outputs": [],
   "source": [
    "import scipy.sparse"
   ]
  },
  {
   "cell_type": "code",
   "execution_count": 215,
   "metadata": {},
   "outputs": [],
   "source": [
    "matrix = pd.DataFrame({\n",
    "    'UserId': [1,2,3,4],\n",
    "    'Category_1': [0,0,2,3],\n",
    "    'Category_2': [5,3,0,0],\n",
    "    'Category_3': [1,0,4,7]\n",
    "})\n",
    "matrix = matrix.set_index('UserId')"
   ]
  },
  {
   "cell_type": "code",
   "execution_count": 216,
   "metadata": {},
   "outputs": [
    {
     "data": {
      "text/html": [
       "<div>\n",
       "<style scoped>\n",
       "    .dataframe tbody tr th:only-of-type {\n",
       "        vertical-align: middle;\n",
       "    }\n",
       "\n",
       "    .dataframe tbody tr th {\n",
       "        vertical-align: top;\n",
       "    }\n",
       "\n",
       "    .dataframe thead th {\n",
       "        text-align: right;\n",
       "    }\n",
       "</style>\n",
       "<table border=\"1\" class=\"dataframe\">\n",
       "  <thead>\n",
       "    <tr style=\"text-align: right;\">\n",
       "      <th></th>\n",
       "      <th>Category_1</th>\n",
       "      <th>Category_2</th>\n",
       "      <th>Category_3</th>\n",
       "    </tr>\n",
       "    <tr>\n",
       "      <th>UserId</th>\n",
       "      <th></th>\n",
       "      <th></th>\n",
       "      <th></th>\n",
       "    </tr>\n",
       "  </thead>\n",
       "  <tbody>\n",
       "    <tr>\n",
       "      <th>1</th>\n",
       "      <td>0</td>\n",
       "      <td>5</td>\n",
       "      <td>1</td>\n",
       "    </tr>\n",
       "    <tr>\n",
       "      <th>2</th>\n",
       "      <td>0</td>\n",
       "      <td>3</td>\n",
       "      <td>0</td>\n",
       "    </tr>\n",
       "    <tr>\n",
       "      <th>3</th>\n",
       "      <td>2</td>\n",
       "      <td>0</td>\n",
       "      <td>4</td>\n",
       "    </tr>\n",
       "    <tr>\n",
       "      <th>4</th>\n",
       "      <td>3</td>\n",
       "      <td>0</td>\n",
       "      <td>7</td>\n",
       "    </tr>\n",
       "  </tbody>\n",
       "</table>\n",
       "</div>"
      ],
      "text/plain": [
       "        Category_1  Category_2  Category_3\n",
       "UserId                                    \n",
       "1                0           5           1\n",
       "2                0           3           0\n",
       "3                2           0           4\n",
       "4                3           0           7"
      ]
     },
     "execution_count": 216,
     "metadata": {},
     "output_type": "execute_result"
    }
   ],
   "source": [
    "matrix.head()"
   ]
  },
  {
   "cell_type": "code",
   "execution_count": 217,
   "metadata": {},
   "outputs": [
    {
     "data": {
      "text/plain": [
       "array([[0, 5, 1],\n",
       "       [0, 3, 0],\n",
       "       [2, 0, 4],\n",
       "       [3, 0, 7]], dtype=int64)"
      ]
     },
     "execution_count": 217,
     "metadata": {},
     "output_type": "execute_result"
    }
   ],
   "source": [
    "y = np.array([0,1,0]).reshape(1,-1)\n",
    "\n",
    "matrix = matrix.values\n",
    "matrix"
   ]
  },
  {
   "cell_type": "code",
   "execution_count": 218,
   "metadata": {},
   "outputs": [
    {
     "data": {
      "text/plain": [
       "array([[0, 1, 0]])"
      ]
     },
     "execution_count": 218,
     "metadata": {},
     "output_type": "execute_result"
    }
   ],
   "source": [
    "y"
   ]
  },
  {
   "cell_type": "code",
   "execution_count": 219,
   "metadata": {},
   "outputs": [
    {
     "data": {
      "text/plain": [
       "array([4.12310563, 2.        , 4.58257569, 7.68114575])"
      ]
     },
     "execution_count": 219,
     "metadata": {},
     "output_type": "execute_result"
    }
   ],
   "source": [
    "dist = pairwise_distances(matrix, y, metric='l2')    \n",
    "dist = dist.flatten()\n",
    "dist"
   ]
  },
  {
   "cell_type": "code",
   "execution_count": 220,
   "metadata": {},
   "outputs": [
    {
     "data": {
      "text/plain": [
       "array([[0, 3, 0],\n",
       "       [0, 5, 1],\n",
       "       [2, 0, 4],\n",
       "       [3, 0, 7]], dtype=int64)"
      ]
     },
     "execution_count": 220,
     "metadata": {},
     "output_type": "execute_result"
    }
   ],
   "source": [
    "closest = get_close_users(matrix, y, 4, 'euclidean')\n",
    "closest"
   ]
  },
  {
   "cell_type": "code",
   "execution_count": 239,
   "metadata": {},
   "outputs": [
    {
     "name": "stdout",
     "output_type": "stream",
     "text": [
      "[2 1 0]\n"
     ]
    },
    {
     "data": {
      "text/plain": [
       "[2, 0]"
      ]
     },
     "execution_count": 239,
     "metadata": {},
     "output_type": "execute_result"
    }
   ],
   "source": [
    "predict(y, closest)"
   ]
  },
  {
   "cell_type": "markdown",
   "metadata": {},
   "source": [
    "### Distances"
   ]
  },
  {
   "cell_type": "code",
   "execution_count": 3,
   "metadata": {},
   "outputs": [],
   "source": [
    "from sklearn.metrics import pairwise_distances\n",
    "\n",
    "def get_close_users(matrix, new_user, top_n=3, metric='euclidean'):\n",
    "    dist = pairwise_distances(matrix, new_user.reshape(1,-1), metric=metric)    \n",
    "    dist = dist.flatten()\n",
    "    idx = np.argsort(dist)[:top_n]    \n",
    "    return matrix[idx]"
   ]
  },
  {
   "cell_type": "code",
   "execution_count": 4,
   "metadata": {},
   "outputs": [],
   "source": [
    "def get_ids(new_user, closest, top_n=2):\n",
    "    answer = []\n",
    "    missing = np.where(new_user == 0)\n",
    "    missing = np.array([x[1] for x in missing])\n",
    "    columns_max = closest.max(axis=0)\n",
    "    idx = np.argsort(columns_max)\n",
    "    unsorted = np.intersect1d(missing, idx)\n",
    "    buf = np.in1d(idx, missing)[::-1]\n",
    "    for i,item in enumerate(buf):\n",
    "        if item == True:\n",
    "            answer.append(idx[::-1][i])\n",
    "    \n",
    "    return answer[:top_n]"
   ]
  },
  {
   "cell_type": "code",
   "execution_count": 5,
   "metadata": {},
   "outputs": [],
   "source": [
    "def create_anomalies(data, delete_percentage):\n",
    "    deleted_indexes = []\n",
    "    anom = data.copy()\n",
    "    for item in anom:\n",
    "        n_delete =  delete_percentage\n",
    "        positions = np.nonzero(item)\n",
    "        if len(positions[0]) < 2:\n",
    "            continue\n",
    "        if n_delete >= len(positions[0]):\n",
    "            n_delete = len(positions[0]) - 1\n",
    "        indexes = random.sample(list(positions[0]), k=n_delete)\n",
    "        item[indexes] = 0\n",
    "        deleted_indexes.append(indexes)\n",
    "    return anom, deleted_indexes"
   ]
  },
  {
   "cell_type": "code",
   "execution_count": null,
   "metadata": {},
   "outputs": [],
   "source": []
  },
  {
   "cell_type": "markdown",
   "metadata": {},
   "source": [
    "### Validation, yeeeeah"
   ]
  },
  {
   "cell_type": "code",
   "execution_count": 6,
   "metadata": {},
   "outputs": [],
   "source": [
    "matrix = scipy.sparse.load_npz(r'E:\\repos\\Datathon\\deepmenu\\data\\embedings.npz')"
   ]
  },
  {
   "cell_type": "code",
   "execution_count": 7,
   "metadata": {},
   "outputs": [
    {
     "data": {
      "text/plain": [
       "(3001330, 9746)"
      ]
     },
     "execution_count": 7,
     "metadata": {},
     "output_type": "execute_result"
    }
   ],
   "source": [
    "matrix.shape"
   ]
  },
  {
   "cell_type": "code",
   "execution_count": 8,
   "metadata": {},
   "outputs": [],
   "source": [
    "train = matrix[:1200].toarray()\n",
    "test = matrix[1200:1300].toarray()"
   ]
  },
  {
   "cell_type": "code",
   "execution_count": 9,
   "metadata": {},
   "outputs": [],
   "source": [
    "corrupted, indexes = create_anomalies(test, 2)"
   ]
  },
  {
   "cell_type": "code",
   "execution_count": null,
   "metadata": {},
   "outputs": [],
   "source": []
  },
  {
   "cell_type": "code",
   "execution_count": 15,
   "metadata": {},
   "outputs": [],
   "source": [
    "from scipy.spatial import distance"
   ]
  },
  {
   "cell_type": "code",
   "execution_count": 16,
   "metadata": {},
   "outputs": [],
   "source": [
    "def validate(matrix, user, original, metric):\n",
    "    closest = get_close_users(matrix, user, 3, metric)\n",
    "    indexes = get_ids(user, closest, 2)\n",
    "    user[indexes] = 1\n",
    "    dst = distance.euclidean(user, original)\n",
    "    return dst"
   ]
  },
  {
   "cell_type": "code",
   "execution_count": 17,
   "metadata": {},
   "outputs": [],
   "source": [
    "import time\n",
    "distances = {}\n",
    "metrics = ['cityblock', 'cosine', 'euclidean', 'l1', 'l2', 'manhattan']\n",
    "\n",
    "metrics += ['braycurtis', 'canberra', 'chebyshev', 'correlation', 'hamming','minkowski','seuclidean', 'sqeuclidean']\n",
    "def check_metrics(train, test, corrupted):\n",
    "    for metric in metrics:\n",
    "        dist = 0\n",
    "        start = time.time()\n",
    "        print(metric)\n",
    "        for i, cor_user in enumerate(corrupted):\n",
    "            val = validate(train, cor_user, test[i], metric)\n",
    "            dist+=val\n",
    "        distances[metric] = dist\n",
    "        print(time.time()-start)"
   ]
  },
  {
   "cell_type": "code",
   "execution_count": 18,
   "metadata": {},
   "outputs": [
    {
     "name": "stdout",
     "output_type": "stream",
     "text": [
      "cityblock\n",
      "19.995943546295166\n",
      "cosine\n",
      "33.5530104637146\n",
      "euclidean\n",
      "16.306379318237305\n",
      "l1\n",
      "15.987232446670532\n",
      "l2\n",
      "15.640161752700806\n",
      "manhattan\n",
      "14.320688009262085\n",
      "braycurtis\n",
      "18.028803825378418\n",
      "canberra\n",
      "14.33165955543518\n",
      "chebyshev\n",
      "14.184058666229248\n",
      "correlation\n",
      "46.89754056930542\n",
      "hamming\n",
      "18.40376615524292\n",
      "minkowski\n",
      "78.26466512680054\n",
      "seuclidean\n",
      "87.66873335838318\n",
      "sqeuclidean\n",
      "27.92031192779541\n"
     ]
    }
   ],
   "source": [
    "check_metrics(train, test, corrupted)"
   ]
  },
  {
   "cell_type": "code",
   "execution_count": 32,
   "metadata": {},
   "outputs": [
    {
     "data": {
      "text/plain": [
       "['cityblock',\n",
       " 'cosine',\n",
       " 'euclidean',\n",
       " 'l1',\n",
       " 'l2',\n",
       " 'manhattan',\n",
       " 'braycurtis',\n",
       " 'canberra',\n",
       " 'chebyshev',\n",
       " 'correlation',\n",
       " 'hamming',\n",
       " 'minkowski',\n",
       " 'seuclidean',\n",
       " 'sqeuclidean']"
      ]
     },
     "execution_count": 32,
     "metadata": {},
     "output_type": "execute_result"
    }
   ],
   "source": [
    "list(distances.keys())"
   ]
  },
  {
   "cell_type": "code",
   "execution_count": 48,
   "metadata": {},
   "outputs": [
    {
     "data": {
      "image/png": "[encoded data removed]",
      "text/plain": [
       "<Figure size 864x576 with 1 Axes>"
      ]
     },
     "metadata": {
      "needs_background": "light"
     },
     "output_type": "display_data"
    }
   ],
   "source": [
    "plt.figure(figsize=(12,8))\n",
    "y = np.random.uniform(0,6, len(distances))\n",
    "s = [20*n+20 for n in range(len(y))]\n",
    "s = s[::-1]\n",
    "plt.scatter(distances.values(), y,s=s)\n",
    "\n",
    "for i, txt in enumerate(distances):\n",
    "    plt.annotate(list(distances.keys())[i], (list(distances.values())[i], y[i]))\n",
    "plt.grid()\n",
    "plt.show()"
   ]
  },
  {
   "cell_type": "code",
   "execution_count": null,
   "metadata": {},
   "outputs": [],
   "source": []
  },
  {
   "cell_type": "code",
   "execution_count": 19,
   "metadata": {},
   "outputs": [
    {
     "data": {
      "text/plain": [
       "{'cityblock': 278.54101966249686,\n",
       " 'cosine': 296.79562676708355,\n",
       " 'euclidean': 313.67650693224516,\n",
       " 'l1': 329.5545360822131,\n",
       " 'l2': 344.6244419246184,\n",
       " 'manhattan': 359.0142045583574,\n",
       " 'braycurtis': 372.8167961072475,\n",
       " 'canberra': 386.1036598507973,\n",
       " 'chebyshev': 398.9317191813724,\n",
       " 'correlation': 411.3475040719934,\n",
       " 'hamming': 423.3897896281426,\n",
       " 'minkowski': 435.0913844756556,\n",
       " 'seuclidean': 446.4803963580517,\n",
       " 'sqeuclidean': 457.58115802653396}"
      ]
     },
     "execution_count": 19,
     "metadata": {},
     "output_type": "execute_result"
    }
   ],
   "source": [
    "distances"
   ]
  },
  {
   "cell_type": "code",
   "execution_count": 173,
   "metadata": {},
   "outputs": [
    {
     "data": {
      "text/plain": [
       "array([[1, 2, 3, 4],\n",
       "       [0, 0, 4, 3],\n",
       "       [5, 3, 0, 0],\n",
       "       [1, 0, 2, 0]])"
      ]
     },
     "execution_count": 173,
     "metadata": {},
     "output_type": "execute_result"
    }
   ],
   "source": [
    "test = np.array([[1,2,3,4], [0,0,4,3],[5,3,0,0]])\n",
    "matrix"
   ]
  },
  {
   "cell_type": "code",
   "execution_count": null,
   "metadata": {},
   "outputs": [],
   "source": [
    "def get_ids(database, user, n_closest, n_items, metric):\n",
    "    closest = get_close_users(database, user, n_closest, metric)\n",
    "    indexes = predict(user, closest, n_items)\n",
    "    return indexes"
   ]
  },
  {
   "cell_type": "code",
   "execution_count": null,
   "metadata": {},
   "outputs": [],
   "source": []
  },
  {
   "cell_type": "code",
   "execution_count": null,
   "metadata": {},
   "outputs": [],
   "source": []
  },
  {
   "cell_type": "code",
   "execution_count": 174,
   "metadata": {},
   "outputs": [],
   "source": [
    "anomalous_data, deleted_indexs = create_anomalies(matrix, 2)"
   ]
  }
 ],
 "metadata": {
  "kernelspec": {
   "display_name": "Python 3",
   "language": "python",
   "name": "python3"
  },
  "language_info": {
   "codemirror_mode": {
    "name": "ipython",
    "version": 3
   },
   "file_extension": ".py",
   "mimetype": "text/x-python",
   "name": "python",
   "nbconvert_exporter": "python",
   "pygments_lexer": "ipython3",
   "version": "3.7.3"
  }
 },
 "nbformat": 4,
 "nbformat_minor": 2
}
