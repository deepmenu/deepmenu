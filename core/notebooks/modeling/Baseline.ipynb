{
 "cells": [
  {
   "cell_type": "code",
   "execution_count": 1,
   "metadata": {},
   "outputs": [],
   "source": [
    "import numpy as np\n",
    "import pandas as pd\n",
    "\n",
    "import random\n",
    "\n",
    "\n",
    "import warnings\n",
    "from sklearn.metrics import pairwise_distances\n",
    "\n",
    "\n",
    "warnings.filterwarnings('ignore')"
   ]
  },
  {
   "cell_type": "code",
   "execution_count": 2,
   "metadata": {},
   "outputs": [],
   "source": [
    "import scipy.sparse"
   ]
  },
  {
   "cell_type": "code",
   "execution_count": 215,
   "metadata": {},
   "outputs": [],
   "source": [
    "matrix = pd.DataFrame({\n",
    "    'UserId': [1,2,3,4],\n",
    "    'Category_1': [0,0,2,3],\n",
    "    'Category_2': [5,3,0,0],\n",
    "    'Category_3': [1,0,4,7]\n",
    "})\n",
    "matrix = matrix.set_index('UserId')"
   ]
  },
  {
   "cell_type": "code",
   "execution_count": 216,
   "metadata": {},
   "outputs": [
    {
     "data": {
      "text/html": [
       "<div>\n",
       "<style scoped>\n",
       "    .dataframe tbody tr th:only-of-type {\n",
       "        vertical-align: middle;\n",
       "    }\n",
       "\n",
       "    .dataframe tbody tr th {\n",
       "        vertical-align: top;\n",
       "    }\n",
       "\n",
       "    .dataframe thead th {\n",
       "        text-align: right;\n",
       "    }\n",
       "</style>\n",
       "<table border=\"1\" class=\"dataframe\">\n",
       "  <thead>\n",
       "    <tr style=\"text-align: right;\">\n",
       "      <th></th>\n",
       "      <th>Category_1</th>\n",
       "      <th>Category_2</th>\n",
       "      <th>Category_3</th>\n",
       "    </tr>\n",
       "    <tr>\n",
       "      <th>UserId</th>\n",
       "      <th></th>\n",
       "      <th></th>\n",
       "      <th></th>\n",
       "    </tr>\n",
       "  </thead>\n",
       "  <tbody>\n",
       "    <tr>\n",
       "      <th>1</th>\n",
       "      <td>0</td>\n",
       "      <td>5</td>\n",
       "      <td>1</td>\n",
       "    </tr>\n",
       "    <tr>\n",
       "      <th>2</th>\n",
       "      <td>0</td>\n",
       "      <td>3</td>\n",
       "      <td>0</td>\n",
       "    </tr>\n",
       "    <tr>\n",
       "      <th>3</th>\n",
       "      <td>2</td>\n",
       "      <td>0</td>\n",
       "      <td>4</td>\n",
       "    </tr>\n",
       "    <tr>\n",
       "      <th>4</th>\n",
       "      <td>3</td>\n",
       "      <td>0</td>\n",
       "      <td>7</td>\n",
       "    </tr>\n",
       "  </tbody>\n",
       "</table>\n",
       "</div>"
      ],
      "text/plain": [
       "        Category_1  Category_2  Category_3\n",
       "UserId                                    \n",
       "1                0           5           1\n",
       "2                0           3           0\n",
       "3                2           0           4\n",
       "4                3           0           7"
      ]
     },
     "execution_count": 216,
     "metadata": {},
     "output_type": "execute_result"
    }
   ],
   "source": [
    "matrix.head()"
   ]
  },
  {
   "cell_type": "code",
   "execution_count": 217,
   "metadata": {},
   "outputs": [
    {
     "data": {
      "text/plain": [
       "array([[0, 5, 1],\n",
       "       [0, 3, 0],\n",
       "       [2, 0, 4],\n",
       "       [3, 0, 7]], dtype=int64)"
      ]
     },
     "execution_count": 217,
     "metadata": {},
     "output_type": "execute_result"
    }
   ],
   "source": [
    "y = np.array([0,1,0]).reshape(1,-1)\n",
    "\n",
    "matrix = matrix.values\n",
    "matrix"
   ]
  },
  {
   "cell_type": "code",
   "execution_count": 218,
   "metadata": {},
   "outputs": [
    {
     "data": {
      "text/plain": [
       "array([[0, 1, 0]])"
      ]
     },
     "execution_count": 218,
     "metadata": {},
     "output_type": "execute_result"
    }
   ],
   "source": [
    "y"
   ]
  },
  {
   "cell_type": "code",
   "execution_count": 219,
   "metadata": {},
   "outputs": [
    {
     "data": {
      "text/plain": [
       "array([4.12310563, 2.        , 4.58257569, 7.68114575])"
      ]
     },
     "execution_count": 219,
     "metadata": {},
     "output_type": "execute_result"
    }
   ],
   "source": [
    "dist = pairwise_distances(matrix, y, metric='l2')    \n",
    "dist = dist.flatten()\n",
    "dist"
   ]
  },
  {
   "cell_type": "code",
   "execution_count": 220,
   "metadata": {},
   "outputs": [
    {
     "data": {
      "text/plain": [
       "array([[0, 3, 0],\n",
       "       [0, 5, 1],\n",
       "       [2, 0, 4],\n",
       "       [3, 0, 7]], dtype=int64)"
      ]
     },
     "execution_count": 220,
     "metadata": {},
     "output_type": "execute_result"
    }
   ],
   "source": [
    "closest = get_close_users(matrix, y, 4, 'euclidean')\n",
    "closest"
   ]
  },
  {
   "cell_type": "code",
   "execution_count": 239,
   "metadata": {},
   "outputs": [
    {
     "name": "stdout",
     "output_type": "stream",
     "text": [
      "[2 1 0]\n"
     ]
    },
    {
     "data": {
      "text/plain": [
       "[2, 0]"
      ]
     },
     "execution_count": 239,
     "metadata": {},
     "output_type": "execute_result"
    }
   ],
   "source": [
    "predict(y, closest)"
   ]
  },
  {
   "cell_type": "markdown",
   "metadata": {},
   "source": [
    "### Distances"
   ]
  },
  {
   "cell_type": "code",
   "execution_count": 14,
   "metadata": {},
   "outputs": [],
   "source": [
    "from sklearn.metrics import pairwise_distances\n",
    "\n",
    "def get_close_users(matrix, new_user, top_n=3, metric='euclidean'):\n",
    "    dist = pairwise_distances(matrix, new_user.reshape(1,-1), metric=metric)    \n",
    "    dist = dist.flatten()\n",
    "    idx = np.argsort(dist)[:top_n]    \n",
    "    return matrix[idx]"
   ]
  },
  {
   "cell_type": "code",
   "execution_count": 15,
   "metadata": {},
   "outputs": [],
   "source": [
    "def get_ids(new_user, closest, top_n=2):\n",
    "    answer = []\n",
    "    missing = np.where(new_user == 0)\n",
    "    missing = np.array([x[1] for x in missing])\n",
    "    columns_max = closest.max(axis=0)\n",
    "    idx = np.argsort(columns_max)\n",
    "    unsorted = np.intersect1d(missing, idx)\n",
    "    buf = np.in1d(idx, missing)[::-1]\n",
    "    for i,item in enumerate(buf):\n",
    "        if item == True:\n",
    "            answer.append(idx[::-1][i])\n",
    "    \n",
    "    return answer[:top_n]"
   ]
  },
  {
   "cell_type": "code",
   "execution_count": 16,
   "metadata": {},
   "outputs": [],
   "source": [
    "def create_anomalies(data, delete_percentage):\n",
    "    deleted_indexes = []\n",
    "    anom = data.copy()\n",
    "    for item in anom:\n",
    "        n_delete =  delete_percentage\n",
    "        positions = np.nonzero(item)\n",
    "        if len(positions[0]) < 2:\n",
    "            continue\n",
    "        if n_delete >= len(positions[0]):\n",
    "            n_delete = len(positions[0]) - 1\n",
    "        indexes = random.sample(list(positions[0]), k=n_delete)\n",
    "        item[indexes] = 0\n",
    "        deleted_indexes.append(indexes)\n",
    "    return anom, deleted_indexes"
   ]
  },
  {
   "cell_type": "code",
   "execution_count": null,
   "metadata": {},
   "outputs": [],
   "source": []
  },
  {
   "cell_type": "markdown",
   "metadata": {},
   "source": [
    "### Validation, yeeeeah"
   ]
  },
  {
   "cell_type": "code",
   "execution_count": 6,
   "metadata": {},
   "outputs": [],
   "source": [
    "matrix = scipy.sparse.load_npz(r'E:\\repos\\Datathon\\deepmenu\\data\\embedings.npz')"
   ]
  },
  {
   "cell_type": "code",
   "execution_count": 17,
   "metadata": {},
   "outputs": [
    {
     "data": {
      "text/plain": [
       "(3001330, 9746)"
      ]
     },
     "execution_count": 17,
     "metadata": {},
     "output_type": "execute_result"
    }
   ],
   "source": [
    "matrix.shape"
   ]
  },
  {
   "cell_type": "code",
   "execution_count": 46,
   "metadata": {},
   "outputs": [],
   "source": [
    "train = matrix[:3000].toarray()\n",
    "test = matrix[3000:3300].toarray()"
   ]
  },
  {
   "cell_type": "code",
   "execution_count": 47,
   "metadata": {},
   "outputs": [],
   "source": [
    "corrupted, indexes = create_anomalies(test, 2)"
   ]
  },
  {
   "cell_type": "code",
   "execution_count": null,
   "metadata": {},
   "outputs": [],
   "source": []
  },
  {
   "cell_type": "code",
   "execution_count": 48,
   "metadata": {},
   "outputs": [],
   "source": [
    "from scipy.spatial import distance"
   ]
  },
  {
   "cell_type": "code",
   "execution_count": 49,
   "metadata": {},
   "outputs": [],
   "source": [
    "def validate(matrix, user, original, metric):\n",
    "    closest = get_close_users(matrix, user, 3, metric)\n",
    "    indexes = predict(user, closest, 2)\n",
    "    user[indexes] = 1\n",
    "    dst = distance.euclidean(user, original)\n",
    "    return dst"
   ]
  },
  {
   "cell_type": "code",
   "execution_count": 50,
   "metadata": {},
   "outputs": [],
   "source": [
    "import time\n",
    "distances = {}\n",
    "metrics = ['cityblock', 'cosine', 'euclidean', 'l1', 'l2', 'manhattan']\n",
    "\n",
    "metrics += ['braycurtis', 'canberra', 'chebyshev', 'correlation', 'hamming','minkowski','seuclidean', 'sqeuclidean']\n",
    "def check_metrics(train, test, corrupted):\n",
    "    for metric in metrics:\n",
    "        dist = 0\n",
    "        start = time.time()\n",
    "        print(metric)\n",
    "        for i, cor_user in enumerate(corrupted):\n",
    "            val = validate(train, cor_user, test[i], metric)\n",
    "            dist+=val\n",
    "        distances[metric] = dist\n",
    "        print(time.time()-start)"
   ]
  },
  {
   "cell_type": "code",
   "execution_count": null,
   "metadata": {},
   "outputs": [
    {
     "name": "stdout",
     "output_type": "stream",
     "text": [
      "cityblock\n",
      "192.9855420589447\n",
      "cosine\n",
      "482.3408160209656\n",
      "euclidean\n",
      "212.0449936389923\n",
      "l1\n",
      "216.26086616516113\n",
      "l2\n",
      "202.44409227371216\n",
      "manhattan\n"
     ]
    }
   ],
   "source": [
    "check_metrics(train, test2, corrupted)"
   ]
  },
  {
   "cell_type": "code",
   "execution_count": null,
   "metadata": {},
   "outputs": [],
   "source": [
    "distances"
   ]
  },
  {
   "cell_type": "code",
   "execution_count": 173,
   "metadata": {},
   "outputs": [
    {
     "data": {
      "text/plain": [
       "array([[1, 2, 3, 4],\n",
       "       [0, 0, 4, 3],\n",
       "       [5, 3, 0, 0],\n",
       "       [1, 0, 2, 0]])"
      ]
     },
     "execution_count": 173,
     "metadata": {},
     "output_type": "execute_result"
    }
   ],
   "source": [
    "test = np.array([[1,2,3,4], [0,0,4,3],[5,3,0,0]])\n",
    "matrix"
   ]
  },
  {
   "cell_type": "code",
   "execution_count": null,
   "metadata": {},
   "outputs": [],
   "source": [
    "def get_ids(database, user, n_closest, n_items, metric):\n",
    "    closest = get_close_users(database, user, n_closest, metric)\n",
    "    indexes = predict(user, closest, n_items)\n",
    "    return indexes"
   ]
  },
  {
   "cell_type": "code",
   "execution_count": null,
   "metadata": {},
   "outputs": [],
   "source": []
  },
  {
   "cell_type": "code",
   "execution_count": null,
   "metadata": {},
   "outputs": [],
   "source": []
  },
  {
   "cell_type": "code",
   "execution_count": 174,
   "metadata": {},
   "outputs": [],
   "source": [
    "anomalous_data, deleted_indexs = create_anomalies(matrix, 2)"
   ]
  }
 ],
 "metadata": {
  "kernelspec": {
   "display_name": "Python 3",
   "language": "python",
   "name": "python3"
  },
  "language_info": {
   "codemirror_mode": {
    "name": "ipython",
    "version": 3
   },
   "file_extension": ".py",
   "mimetype": "text/x-python",
   "name": "python",
   "nbconvert_exporter": "python",
   "pygments_lexer": "ipython3",
   "version": "3.7.3"
  }
 },
 "nbformat": 4,
 "nbformat_minor": 2
}
