{
 "cells": [
  {
   "cell_type": "markdown",
   "metadata": {},
   "source": [
    "## CustomData to try"
   ]
  },
  {
   "cell_type": "code",
   "execution_count": 177,
   "metadata": {},
   "outputs": [],
   "source": [
    "custom_dict = {'UserID':[1, 1, 1, 1, 1, 2, 2, 3],\n",
    "               'OrderID':[100, 100, 100, 200, 200, 300, 400, 500],\n",
    "               'ItemID':[10, 11, 11, 12, 15, 15, 16, 17],\n",
    "               'Description':[' McCombo 12 with Double Cheeseburger with bacons',\n",
    "                             'McToast, hashbrow_ 4 and_ a drink_ of choice ',\n",
    "                             'Happy Meal-with Pancakes and a drink of choice',\n",
    "                             'Double File-o-Fishs',\n",
    "                             'Cheeseburgers_',\n",
    "                             'Cheeseburgers_',\n",
    "                             'McCombo with_ Caesar_ Roll',\n",
    "                             'Happy Meal-with Pancakes and a drink of choice'],\n",
    "              'Count' :[1, 1, 1, 3, 4, 1, 2, 1]}\n",
    "custom_data = pd.DataFrame(custom_dict)"
   ]
  },
  {
   "cell_type": "markdown",
   "metadata": {},
   "source": [
    "## Loading and previewing data"
   ]
  },
  {
   "cell_type": "code",
   "execution_count": 178,
   "metadata": {},
   "outputs": [],
   "source": [
    "import pandas as pd\n",
    "import numpy as np\n",
    "import spacy\n",
    "import re\n",
    "from tqdm import tqdm"
   ]
  },
  {
   "cell_type": "code",
   "execution_count": 179,
   "metadata": {},
   "outputs": [
    {
     "data": {
      "text/plain": [
       "(2513, 6)"
      ]
     },
     "execution_count": 179,
     "metadata": {},
     "output_type": "execute_result"
    }
   ],
   "source": [
    "custom_data = pd.read_csv('userItems.csv')\n",
    "custom_data = custom_data.sample(frac=0.001, random_state=3)\n",
    "custom_data.shape"
   ]
  },
  {
   "cell_type": "code",
   "execution_count": 65,
   "metadata": {},
   "outputs": [],
   "source": [
    "nlp = spacy.load('en_core_web_sm')\n",
    "\n",
    "def normalize(text):\n",
    "    text = re.sub(r'[^a-zA-Z ]', '', text) # remove all non latin characters \n",
    "    text = nlp(text.lower())\n",
    "    tokens = [token.lemma_ for token in text if len(token) > 2 and  # leave raw tokens if length > 2\n",
    "                                                not token.is_stop and # and if token is not a stop word\n",
    "                                                token.pos_ != 'ADJECTIVE'] # and it is a NOT AN ANJECTIVE\n",
    "    tokens = list(set(tokens))  # delete repeating words\n",
    "    return ' '.join(tokens) if tokens else ' ' #returning clear text description if any words left, else empty str\n",
    "    \n",
    "def tokenize(text):\n",
    "    return text.split()"
   ]
  },
  {
   "cell_type": "code",
   "execution_count": 66,
   "metadata": {},
   "outputs": [
    {
     "name": "stderr",
     "output_type": "stream",
     "text": [
      "100%|██████████| 2513/2513 [00:44<00:00, 56.56it/s]\n"
     ]
    },
    {
     "data": {
      "text/html": [
       "<div>\n",
       "<style scoped>\n",
       "    .dataframe tbody tr th:only-of-type {\n",
       "        vertical-align: middle;\n",
       "    }\n",
       "\n",
       "    .dataframe tbody tr th {\n",
       "        vertical-align: top;\n",
       "    }\n",
       "\n",
       "    .dataframe thead th {\n",
       "        text-align: right;\n",
       "    }\n",
       "</style>\n",
       "<table border=\"1\" class=\"dataframe\">\n",
       "  <thead>\n",
       "    <tr style=\"text-align: right;\">\n",
       "      <th></th>\n",
       "      <th>Unnamed: 0</th>\n",
       "      <th>UserID</th>\n",
       "      <th>OrderID</th>\n",
       "      <th>ItemID</th>\n",
       "      <th>Number</th>\n",
       "      <th>Description</th>\n",
       "    </tr>\n",
       "  </thead>\n",
       "  <tbody>\n",
       "    <tr>\n",
       "      <th>2490850</th>\n",
       "      <td>2490850</td>\n",
       "      <td>10239</td>\n",
       "      <td>197368</td>\n",
       "      <td>4236</td>\n",
       "      <td>1.0</td>\n",
       "      <td>cocacola</td>\n",
       "    </tr>\n",
       "    <tr>\n",
       "      <th>463944</th>\n",
       "      <td>463944</td>\n",
       "      <td>249486</td>\n",
       "      <td>730032</td>\n",
       "      <td>50290</td>\n",
       "      <td>1.0</td>\n",
       "      <td>chicken spicy village wing potato basket</td>\n",
       "    </tr>\n",
       "    <tr>\n",
       "      <th>51013</th>\n",
       "      <td>51013</td>\n",
       "      <td>139161</td>\n",
       "      <td>704642</td>\n",
       "      <td>2461</td>\n",
       "      <td>1.0</td>\n",
       "      <td>msize village potato lsize</td>\n",
       "    </tr>\n",
       "    <tr>\n",
       "      <th>2184155</th>\n",
       "      <td>2184155</td>\n",
       "      <td>157924</td>\n",
       "      <td>960227</td>\n",
       "      <td>50267</td>\n",
       "      <td>1.0</td>\n",
       "      <td>chefburger sesame chicken iceberg fillet sauce...</td>\n",
       "    </tr>\n",
       "    <tr>\n",
       "      <th>1425810</th>\n",
       "      <td>1425810</td>\n",
       "      <td>156095</td>\n",
       "      <td>490098</td>\n",
       "      <td>27686</td>\n",
       "      <td>1.0</td>\n",
       "      <td>chicken mayonnaise fillet boil draniki cheese</td>\n",
       "    </tr>\n",
       "  </tbody>\n",
       "</table>\n",
       "</div>"
      ],
      "text/plain": [
       "         Unnamed: 0  UserID  OrderID  ItemID  Number  \\\n",
       "2490850     2490850   10239   197368    4236     1.0   \n",
       "463944       463944  249486   730032   50290     1.0   \n",
       "51013         51013  139161   704642    2461     1.0   \n",
       "2184155     2184155  157924   960227   50267     1.0   \n",
       "1425810     1425810  156095   490098   27686     1.0   \n",
       "\n",
       "                                               Description  \n",
       "2490850                                           cocacola  \n",
       "463944            chicken spicy village wing potato basket  \n",
       "51013                           msize village potato lsize  \n",
       "2184155  chefburger sesame chicken iceberg fillet sauce...  \n",
       "1425810      chicken mayonnaise fillet boil draniki cheese  "
      ]
     },
     "execution_count": 66,
     "metadata": {},
     "output_type": "execute_result"
    }
   ],
   "source": [
    "tqdm.pandas()\n",
    "custom_data['Description'] = custom_data['Description'].progress_apply(normalize)\n",
    "custom_data.dropna(inplace=True)\n",
    "custom_data.head(5)"
   ]
  },
  {
   "cell_type": "markdown",
   "metadata": {},
   "source": [
    "### Save clear description data and dict ItemID->categories and dict category->ItemIds"
   ]
  },
  {
   "cell_type": "code",
   "execution_count": 180,
   "metadata": {},
   "outputs": [],
   "source": [
    "# custom_data.to_csv('userItemsSampleClear.csv')\n",
    "custom_data = pd.read_csv('userItemsSampleClear.csv')"
   ]
  },
  {
   "cell_type": "code",
   "execution_count": 181,
   "metadata": {},
   "outputs": [],
   "source": [
    "dic = pd.Series(custom_data['Description'].values, index=custom_data['ItemID']).to_dict()\n",
    "dictItemIdCat = {key: list(map(str, value.split())) for key, value in dic.items()}"
   ]
  },
  {
   "cell_type": "code",
   "execution_count": 182,
   "metadata": {},
   "outputs": [],
   "source": [
    "def invert_dict(d): \n",
    "    inverse = dict() \n",
    "    for key in d: \n",
    "        # Go through the list that is saved in the dict:\n",
    "        for item in d[key]:\n",
    "            # Check if in the inverted dict the key exists\n",
    "            if item not in inverse: \n",
    "                # If not create a new list\n",
    "                inverse[item] = [key] \n",
    "            else: \n",
    "                inverse[item].append(key) \n",
    "    return inverse"
   ]
  },
  {
   "cell_type": "code",
   "execution_count": 183,
   "metadata": {},
   "outputs": [],
   "source": [
    "import csv\n",
    "def save_dict(name, dic):\n",
    "    w = csv.writer(open(name, 'w'))\n",
    "    for key, val in dic.items():\n",
    "        w.writerow([key, val])\n",
    "\n",
    "def read_dict(name):\n",
    "    with open(name) as csv_file:\n",
    "        reader = csv.reader(csv_file)\n",
    "        mydict = dict(reader)\n",
    "        return mydict"
   ]
  },
  {
   "cell_type": "code",
   "execution_count": 184,
   "metadata": {},
   "outputs": [],
   "source": [
    "dictCatItemId = invert_dict(dictItemIdCat)"
   ]
  },
  {
   "cell_type": "code",
   "execution_count": 185,
   "metadata": {},
   "outputs": [],
   "source": [
    "save_dict('dictItemIdCat.csv', dictItemIdCat)\n",
    "save_dict('dictCatItemId.csv', dictCatItemId)"
   ]
  },
  {
   "cell_type": "markdown",
   "metadata": {},
   "source": [
    "## Vectorizing"
   ]
  },
  {
   "cell_type": "code",
   "execution_count": 186,
   "metadata": {},
   "outputs": [],
   "source": [
    "custom_data = pd.read_csv('userItemsSampleClear.csv')\n",
    "dictItemIdCat = read_dict('dictItemIdCat.csv')\n",
    "dictCatItemId = read_dict('dictCatItemId.csv')"
   ]
  },
  {
   "cell_type": "code",
   "execution_count": 187,
   "metadata": {},
   "outputs": [
    {
     "data": {
      "text/html": [
       "<div>\n",
       "<style scoped>\n",
       "    .dataframe tbody tr th:only-of-type {\n",
       "        vertical-align: middle;\n",
       "    }\n",
       "\n",
       "    .dataframe tbody tr th {\n",
       "        vertical-align: top;\n",
       "    }\n",
       "\n",
       "    .dataframe thead th {\n",
       "        text-align: right;\n",
       "    }\n",
       "</style>\n",
       "<table border=\"1\" class=\"dataframe\">\n",
       "  <thead>\n",
       "    <tr style=\"text-align: right;\">\n",
       "      <th></th>\n",
       "      <th>Unnamed: 0</th>\n",
       "      <th>Unnamed: 0.1</th>\n",
       "      <th>UserID</th>\n",
       "      <th>OrderID</th>\n",
       "      <th>ItemID</th>\n",
       "      <th>Number</th>\n",
       "      <th>Description</th>\n",
       "    </tr>\n",
       "  </thead>\n",
       "  <tbody>\n",
       "    <tr>\n",
       "      <th>0</th>\n",
       "      <td>2490850</td>\n",
       "      <td>2490850</td>\n",
       "      <td>10239</td>\n",
       "      <td>197368</td>\n",
       "      <td>4236</td>\n",
       "      <td>1.0</td>\n",
       "      <td>cocacola</td>\n",
       "    </tr>\n",
       "    <tr>\n",
       "      <th>1</th>\n",
       "      <td>463944</td>\n",
       "      <td>463944</td>\n",
       "      <td>249486</td>\n",
       "      <td>730032</td>\n",
       "      <td>50290</td>\n",
       "      <td>1.0</td>\n",
       "      <td>chicken spicy village wing potato basket</td>\n",
       "    </tr>\n",
       "    <tr>\n",
       "      <th>2</th>\n",
       "      <td>51013</td>\n",
       "      <td>51013</td>\n",
       "      <td>139161</td>\n",
       "      <td>704642</td>\n",
       "      <td>2461</td>\n",
       "      <td>1.0</td>\n",
       "      <td>msize village potato lsize</td>\n",
       "    </tr>\n",
       "  </tbody>\n",
       "</table>\n",
       "</div>"
      ],
      "text/plain": [
       "   Unnamed: 0  Unnamed: 0.1  UserID  OrderID  ItemID  Number  \\\n",
       "0     2490850       2490850   10239   197368    4236     1.0   \n",
       "1      463944        463944  249486   730032   50290     1.0   \n",
       "2       51013         51013  139161   704642    2461     1.0   \n",
       "\n",
       "                                Description  \n",
       "0                                  cocacola  \n",
       "1  chicken spicy village wing potato basket  \n",
       "2                msize village potato lsize  "
      ]
     },
     "execution_count": 187,
     "metadata": {},
     "output_type": "execute_result"
    }
   ],
   "source": [
    "custom_data.head(3)"
   ]
  },
  {
   "cell_type": "code",
   "execution_count": 188,
   "metadata": {},
   "outputs": [],
   "source": [
    "from sklearn.feature_extraction.text import CountVectorizer \n",
    "vectorizer = CountVectorizer()\n",
    "categories_data = vectorizer.fit_transform(custom_data['Description'])\n",
    "categories_voc = vectorizer.vocabulary_"
   ]
  },
  {
   "cell_type": "code",
   "execution_count": 189,
   "metadata": {},
   "outputs": [],
   "source": [
    "custom_data['categories'] = [np.array(row) for row in categories_data.toarray()]\n",
    "custom_data['categories'] = custom_data['categories'] * custom_data['Number']\n",
    "custom_data.drop(['Description', 'Number', 'ItemID', 'Unnamed: 0', 'Unnamed: 0.1'],\n",
    "                 axis=1, inplace=True)"
   ]
  },
  {
   "cell_type": "code",
   "execution_count": 190,
   "metadata": {},
   "outputs": [
    {
     "data": {
      "text/html": [
       "<div>\n",
       "<style scoped>\n",
       "    .dataframe tbody tr th:only-of-type {\n",
       "        vertical-align: middle;\n",
       "    }\n",
       "\n",
       "    .dataframe tbody tr th {\n",
       "        vertical-align: top;\n",
       "    }\n",
       "\n",
       "    .dataframe thead th {\n",
       "        text-align: right;\n",
       "    }\n",
       "</style>\n",
       "<table border=\"1\" class=\"dataframe\">\n",
       "  <thead>\n",
       "    <tr style=\"text-align: right;\">\n",
       "      <th></th>\n",
       "      <th>UserID</th>\n",
       "      <th>OrderID</th>\n",
       "      <th>categories</th>\n",
       "    </tr>\n",
       "  </thead>\n",
       "  <tbody>\n",
       "    <tr>\n",
       "      <th>0</th>\n",
       "      <td>10239</td>\n",
       "      <td>197368</td>\n",
       "      <td>[0.0, 0.0, 0.0, 0.0, 0.0, 0.0, 0.0, 0.0, 0.0, ...</td>\n",
       "    </tr>\n",
       "    <tr>\n",
       "      <th>1</th>\n",
       "      <td>249486</td>\n",
       "      <td>730032</td>\n",
       "      <td>[0.0, 0.0, 0.0, 0.0, 0.0, 0.0, 0.0, 0.0, 0.0, ...</td>\n",
       "    </tr>\n",
       "    <tr>\n",
       "      <th>2</th>\n",
       "      <td>139161</td>\n",
       "      <td>704642</td>\n",
       "      <td>[0.0, 0.0, 0.0, 0.0, 0.0, 0.0, 0.0, 0.0, 0.0, ...</td>\n",
       "    </tr>\n",
       "  </tbody>\n",
       "</table>\n",
       "</div>"
      ],
      "text/plain": [
       "   UserID  OrderID                                         categories\n",
       "0   10239   197368  [0.0, 0.0, 0.0, 0.0, 0.0, 0.0, 0.0, 0.0, 0.0, ...\n",
       "1  249486   730032  [0.0, 0.0, 0.0, 0.0, 0.0, 0.0, 0.0, 0.0, 0.0, ...\n",
       "2  139161   704642  [0.0, 0.0, 0.0, 0.0, 0.0, 0.0, 0.0, 0.0, 0.0, ..."
      ]
     },
     "execution_count": 190,
     "metadata": {},
     "output_type": "execute_result"
    }
   ],
   "source": [
    "custom_data.head(3)"
   ]
  },
  {
   "cell_type": "markdown",
   "metadata": {},
   "source": [
    "## GroupBy UserID, OrderID, ItemID"
   ]
  },
  {
   "cell_type": "code",
   "execution_count": 191,
   "metadata": {},
   "outputs": [],
   "source": [
    "cat = sorted(categories_voc.items(), key=lambda kv:kv[1])\n",
    "cat = [c[0] for c in cat]\n",
    "custom_data[cat] = pd.DataFrame(custom_data['categories'].values.tolist(), index = custom_data.index)\n",
    "custom_data.drop('categories', axis=1, inplace=True)"
   ]
  },
  {
   "cell_type": "code",
   "execution_count": 192,
   "metadata": {},
   "outputs": [],
   "source": [
    "categorized_custom_data =custom_data.groupby(['UserID', 'OrderID']).sum().groupby('UserID').mean()"
   ]
  },
  {
   "cell_type": "code",
   "execution_count": 193,
   "metadata": {},
   "outputs": [
    {
     "data": {
      "text/html": [
       "<div>\n",
       "<style scoped>\n",
       "    .dataframe tbody tr th:only-of-type {\n",
       "        vertical-align: middle;\n",
       "    }\n",
       "\n",
       "    .dataframe tbody tr th {\n",
       "        vertical-align: top;\n",
       "    }\n",
       "\n",
       "    .dataframe thead th {\n",
       "        text-align: right;\n",
       "    }\n",
       "</style>\n",
       "<table border=\"1\" class=\"dataframe\">\n",
       "  <thead>\n",
       "    <tr style=\"text-align: right;\">\n",
       "      <th></th>\n",
       "      <th>aburi</th>\n",
       "      <th>achik</th>\n",
       "      <th>achikchuchuk</th>\n",
       "      <th>adana</th>\n",
       "      <th>addition</th>\n",
       "      <th>adjarian</th>\n",
       "      <th>adjika</th>\n",
       "      <th>adygha</th>\n",
       "      <th>adyghe</th>\n",
       "      <th>age</th>\n",
       "      <th>...</th>\n",
       "      <th>yellow</th>\n",
       "      <th>yoghurt</th>\n",
       "      <th>yolk</th>\n",
       "      <th>york</th>\n",
       "      <th>young</th>\n",
       "      <th>yum</th>\n",
       "      <th>zero</th>\n",
       "      <th>zest</th>\n",
       "      <th>zira</th>\n",
       "      <th>zucchini</th>\n",
       "    </tr>\n",
       "    <tr>\n",
       "      <th>UserID</th>\n",
       "      <th></th>\n",
       "      <th></th>\n",
       "      <th></th>\n",
       "      <th></th>\n",
       "      <th></th>\n",
       "      <th></th>\n",
       "      <th></th>\n",
       "      <th></th>\n",
       "      <th></th>\n",
       "      <th></th>\n",
       "      <th></th>\n",
       "      <th></th>\n",
       "      <th></th>\n",
       "      <th></th>\n",
       "      <th></th>\n",
       "      <th></th>\n",
       "      <th></th>\n",
       "      <th></th>\n",
       "      <th></th>\n",
       "      <th></th>\n",
       "      <th></th>\n",
       "    </tr>\n",
       "  </thead>\n",
       "  <tbody>\n",
       "    <tr>\n",
       "      <th>3056</th>\n",
       "      <td>0.0</td>\n",
       "      <td>0.0</td>\n",
       "      <td>0.0</td>\n",
       "      <td>0.0</td>\n",
       "      <td>0.0</td>\n",
       "      <td>0.0</td>\n",
       "      <td>0.0</td>\n",
       "      <td>0.0</td>\n",
       "      <td>0.0</td>\n",
       "      <td>0.0</td>\n",
       "      <td>...</td>\n",
       "      <td>0.0</td>\n",
       "      <td>0.0</td>\n",
       "      <td>0.0</td>\n",
       "      <td>0.0</td>\n",
       "      <td>0.0</td>\n",
       "      <td>0.0</td>\n",
       "      <td>0.0</td>\n",
       "      <td>0.0</td>\n",
       "      <td>0.0</td>\n",
       "      <td>0.0</td>\n",
       "    </tr>\n",
       "    <tr>\n",
       "      <th>3058</th>\n",
       "      <td>0.0</td>\n",
       "      <td>0.0</td>\n",
       "      <td>0.0</td>\n",
       "      <td>0.0</td>\n",
       "      <td>0.0</td>\n",
       "      <td>0.0</td>\n",
       "      <td>0.0</td>\n",
       "      <td>0.0</td>\n",
       "      <td>0.0</td>\n",
       "      <td>0.0</td>\n",
       "      <td>...</td>\n",
       "      <td>0.0</td>\n",
       "      <td>0.0</td>\n",
       "      <td>0.0</td>\n",
       "      <td>0.0</td>\n",
       "      <td>0.0</td>\n",
       "      <td>0.0</td>\n",
       "      <td>0.0</td>\n",
       "      <td>0.0</td>\n",
       "      <td>0.0</td>\n",
       "      <td>0.0</td>\n",
       "    </tr>\n",
       "    <tr>\n",
       "      <th>3079</th>\n",
       "      <td>0.0</td>\n",
       "      <td>0.0</td>\n",
       "      <td>0.0</td>\n",
       "      <td>0.0</td>\n",
       "      <td>0.0</td>\n",
       "      <td>0.0</td>\n",
       "      <td>0.0</td>\n",
       "      <td>0.0</td>\n",
       "      <td>0.0</td>\n",
       "      <td>0.0</td>\n",
       "      <td>...</td>\n",
       "      <td>0.0</td>\n",
       "      <td>0.0</td>\n",
       "      <td>0.0</td>\n",
       "      <td>0.0</td>\n",
       "      <td>0.0</td>\n",
       "      <td>0.0</td>\n",
       "      <td>0.0</td>\n",
       "      <td>0.0</td>\n",
       "      <td>0.0</td>\n",
       "      <td>0.0</td>\n",
       "    </tr>\n",
       "    <tr>\n",
       "      <th>3096</th>\n",
       "      <td>0.0</td>\n",
       "      <td>0.0</td>\n",
       "      <td>0.0</td>\n",
       "      <td>0.0</td>\n",
       "      <td>0.0</td>\n",
       "      <td>0.0</td>\n",
       "      <td>0.0</td>\n",
       "      <td>0.0</td>\n",
       "      <td>0.0</td>\n",
       "      <td>0.0</td>\n",
       "      <td>...</td>\n",
       "      <td>0.0</td>\n",
       "      <td>0.0</td>\n",
       "      <td>0.0</td>\n",
       "      <td>0.0</td>\n",
       "      <td>0.0</td>\n",
       "      <td>0.0</td>\n",
       "      <td>0.0</td>\n",
       "      <td>0.0</td>\n",
       "      <td>0.0</td>\n",
       "      <td>0.0</td>\n",
       "    </tr>\n",
       "    <tr>\n",
       "      <th>3118</th>\n",
       "      <td>0.0</td>\n",
       "      <td>0.0</td>\n",
       "      <td>0.0</td>\n",
       "      <td>0.0</td>\n",
       "      <td>0.0</td>\n",
       "      <td>0.0</td>\n",
       "      <td>0.0</td>\n",
       "      <td>0.0</td>\n",
       "      <td>0.0</td>\n",
       "      <td>0.0</td>\n",
       "      <td>...</td>\n",
       "      <td>0.0</td>\n",
       "      <td>0.0</td>\n",
       "      <td>0.0</td>\n",
       "      <td>0.0</td>\n",
       "      <td>0.0</td>\n",
       "      <td>0.0</td>\n",
       "      <td>0.0</td>\n",
       "      <td>0.0</td>\n",
       "      <td>0.0</td>\n",
       "      <td>0.0</td>\n",
       "    </tr>\n",
       "  </tbody>\n",
       "</table>\n",
       "<p>5 rows × 1222 columns</p>\n",
       "</div>"
      ],
      "text/plain": [
       "        aburi  achik  achikchuchuk  adana  addition  adjarian  adjika  adygha  \\\n",
       "UserID                                                                          \n",
       "3056      0.0    0.0           0.0    0.0       0.0       0.0     0.0     0.0   \n",
       "3058      0.0    0.0           0.0    0.0       0.0       0.0     0.0     0.0   \n",
       "3079      0.0    0.0           0.0    0.0       0.0       0.0     0.0     0.0   \n",
       "3096      0.0    0.0           0.0    0.0       0.0       0.0     0.0     0.0   \n",
       "3118      0.0    0.0           0.0    0.0       0.0       0.0     0.0     0.0   \n",
       "\n",
       "        adyghe  age  ...  yellow  yoghurt  yolk  york  young  yum  zero  zest  \\\n",
       "UserID               ...                                                        \n",
       "3056       0.0  0.0  ...     0.0      0.0   0.0   0.0    0.0  0.0   0.0   0.0   \n",
       "3058       0.0  0.0  ...     0.0      0.0   0.0   0.0    0.0  0.0   0.0   0.0   \n",
       "3079       0.0  0.0  ...     0.0      0.0   0.0   0.0    0.0  0.0   0.0   0.0   \n",
       "3096       0.0  0.0  ...     0.0      0.0   0.0   0.0    0.0  0.0   0.0   0.0   \n",
       "3118       0.0  0.0  ...     0.0      0.0   0.0   0.0    0.0  0.0   0.0   0.0   \n",
       "\n",
       "        zira  zucchini  \n",
       "UserID                  \n",
       "3056     0.0       0.0  \n",
       "3058     0.0       0.0  \n",
       "3079     0.0       0.0  \n",
       "3096     0.0       0.0  \n",
       "3118     0.0       0.0  \n",
       "\n",
       "[5 rows x 1222 columns]"
      ]
     },
     "execution_count": 193,
     "metadata": {},
     "output_type": "execute_result"
    }
   ],
   "source": [
    "categorized_custom_data.head(5)"
   ]
  },
  {
   "cell_type": "markdown",
   "metadata": {},
   "source": [
    "## Trying new user"
   ]
  },
  {
   "cell_type": "markdown",
   "metadata": {},
   "source": [
    "Assume our user has made some order"
   ]
  },
  {
   "cell_type": "code",
   "execution_count": 204,
   "metadata": {},
   "outputs": [],
   "source": [
    "customers_data = ['Basket 16 spicy wings 432/135g  16 chicken wings Chefburger 176g  bun with sesame fillet',\n",
    "                 'chicken mayonnaise fillet boil draniki cheese Chefburger 176g  bun with sesame  chicken fillet']"
   ]
  },
  {
   "cell_type": "code",
   "execution_count": 206,
   "metadata": {},
   "outputs": [],
   "source": [
    "customer_order = customers_data[0]\n",
    "norm_customer_order = normalize(customer_order)\n",
    "vec_customer_order = vectorizer.transform([norm_customer_order]).toarray()"
   ]
  },
  {
   "cell_type": "code",
   "execution_count": 207,
   "metadata": {},
   "outputs": [],
   "source": [
    "database = categorized_custom_data.values"
   ]
  },
  {
   "cell_type": "code",
   "execution_count": 208,
   "metadata": {},
   "outputs": [],
   "source": [
    "from sklearn.metrics import pairwise_distances\n",
    "def get_close_users(matrix, new_user, top_n=3, metric='euclidean'):\n",
    "    dist = pairwise_distances(matrix, new_user.reshape(1,-1), metric=metric)    \n",
    "    dist = dist.flatten()\n",
    "    idx = np.argsort(dist)[:top_n]    \n",
    "    return matrix[idx]\n",
    "\n",
    "def predict(new_user, closest, top_n=3):\n",
    "    answer = []\n",
    "    missing = np.where(new_user == 0)\n",
    "    #missing = np.array([x[1] for x in missing])\n",
    "    missing = missing[1]\n",
    "    columns_max = closest.max(axis=0)\n",
    "    idx = np.argsort(columns_max)\n",
    "    unsorted = np.intersect1d(missing, idx)\n",
    "    \n",
    "    buf = np.in1d(idx, missing)[::-1]\n",
    "    for i,item in enumerate(buf):\n",
    "        if item == True:\n",
    "            answer.append(idx[::-1][i])\n",
    "    return answer[:top_n]"
   ]
  },
  {
   "cell_type": "code",
   "execution_count": 209,
   "metadata": {},
   "outputs": [
    {
     "data": {
      "text/plain": [
       "[853, 1174, 1221]"
      ]
     },
     "execution_count": 209,
     "metadata": {},
     "output_type": "execute_result"
    }
   ],
   "source": [
    "closest = get_close_users(database, vec_customer_order)\n",
    "indexes = predict(vec_customer_order, closest)\n",
    "indexes"
   ]
  },
  {
   "cell_type": "code",
   "execution_count": 210,
   "metadata": {},
   "outputs": [
    {
     "name": "stdout",
     "output_type": "stream",
     "text": [
      "Ordered dish and description:  Basket 16 spicy wings 432/135g  16 chicken wings Chefburger 176g  bun with sesame fillet\n",
      "Reccomended additional categories:  ['potato', 'village', 'zucchini']\n"
     ]
    }
   ],
   "source": [
    "reccomended = [[key for key in categories_voc.keys() if categories_voc[key] == x] for x in indexes]\n",
    "reccomended = [r[0] for r in reccomended]\n",
    "print('Ordered dish and description: ', customer_order)\n",
    "print('Reccomended additional categories: ', reccomended)"
   ]
  },
  {
   "cell_type": "code",
   "execution_count": 211,
   "metadata": {},
   "outputs": [
    {
     "data": {
      "text/plain": [
       "'[50290, 2461, 70725, 46613, 70727, 12244, 20759, 12348, 22424, 69811, 50269, 48866, 20704, 28510, 18262, 35153, 15615, 50296, 752, 50291, 5152, 2324, 32356, 4773, 20876, 9583, 18225, 10939, 35115, 2317, 37699, 4223, 2330, 72154, 75058, 2320, 35147, 50308, 33225, 1129, 44831, 46620, 13475, 46615, 2261, 21632, 48877, 38500, 35141, 6070, 2425, 11094, 4760, 24638, 2329, 38457, 38333, 46610, 56206, 12176, 23005, 2122, 14005, 37838, 5591, 12036, 50769, 35140, 42184, 56277, 48965, 15194, 1860, 4774, 31875, 4499, 6844, 28296, 2318, 20949, 9381, 2323, 10138, 38430, 20894, 58540, 48874, 56869, 9629, 74528, 16005, 10457, 46624, 74426, 11101, 35126, 40517, 27375, 11132, 11092, 8332, 28044, 55085, 7209, 24809, 52217, 23017, 1461, 38541]'"
      ]
     },
     "execution_count": 211,
     "metadata": {},
     "output_type": "execute_result"
    }
   ],
   "source": [
    "dictCatItemId[reccomended[0]]"
   ]
  },
  {
   "cell_type": "code",
   "execution_count": null,
   "metadata": {},
   "outputs": [],
   "source": []
  }
 ],
 "metadata": {
  "kernelspec": {
   "display_name": "Python 3",
   "language": "python",
   "name": "python3"
  },
  "language_info": {
   "codemirror_mode": {
    "name": "ipython",
    "version": 3
   },
   "file_extension": ".py",
   "mimetype": "text/x-python",
   "name": "python",
   "nbconvert_exporter": "python",
   "pygments_lexer": "ipython3",
   "version": "3.7.3"
  }
 },
 "nbformat": 4,
 "nbformat_minor": 2
}
