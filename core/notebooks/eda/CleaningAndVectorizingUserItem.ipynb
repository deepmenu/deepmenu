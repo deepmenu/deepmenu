{
 "cells": [
  {
   "cell_type": "markdown",
   "metadata": {},
   "source": [
    "## CustomData to try"
   ]
  },
  {
   "cell_type": "code",
   "execution_count": 17,
   "metadata": {},
   "outputs": [],
   "source": [
    "custom_dict = {'UserID':[1, 1, 1, 1, 1, 2, 2, 3],\n",
    "               'OrderID':[100, 100, 100, 200, 200, 300, 400, 500],\n",
    "               'ItemID':[10, 11, 11, 12, 15, 15, 16, 17],\n",
    "               'Description':[' McCombo 12 with Double Cheeseburger with bacons',\n",
    "                             'McToast, hashbrow_ 4 and_ a drink_ of choice ',\n",
    "                             'Happy Meal-with Pancakes and a drink of choice',\n",
    "                             'Double File-o-Fishs',\n",
    "                             'Cheeseburgers_',\n",
    "                             'Cheeseburgers_',\n",
    "                             'McCombo with_ Caesar_ Roll',\n",
    "                             'Happy Meal-with Pancakes and a drink of choice'],\n",
    "              'Count' :[1, 1, 1, 3, 4, 1, 2, 1]}\n",
    "custom_data = pd.DataFrame(custom_dict)"
   ]
  },
  {
   "cell_type": "code",
   "execution_count": 1,
   "metadata": {},
   "outputs": [],
   "source": [
    "path = \"../../data/processed/userItems.csv\""
   ]
  },
  {
   "cell_type": "markdown",
   "metadata": {},
   "source": [
    "## Loading and previewing data"
   ]
  },
  {
   "cell_type": "code",
   "execution_count": 6,
   "metadata": {},
   "outputs": [],
   "source": [
    "import pandas as pd\n",
    "import numpy as np\n",
    "import spacy\n",
    "import re\n",
    "\n",
    "custom_data = pd.read_csv(path)"
   ]
  },
  {
   "cell_type": "code",
   "execution_count": 7,
   "metadata": {},
   "outputs": [],
   "source": [
    "# python -m spacy download en_core_web_sm\n",
    "nlp = spacy.load('en_core_web_sm')\n",
    "\n",
    "def normalize(text):\n",
    "    text = re.sub(r'[^a-zA-Z ]', '', text) # remove all non latin characters \n",
    "    text = nlp(text.lower())\n",
    "    tokens = [token.lemma_ for token in text if len(token) > 2 and  # leave raw tokens if length > 2\n",
    "                                                not token.is_stop and # and if token is not a stop word\n",
    "                                                token.pos_ != 'ADJECTIVE'] # and it is a NOUN\n",
    "    tokens = list(set(tokens))  # delete repeating words\n",
    "    return ' '.join(tokens) #returning clear text description\n",
    "    \n",
    "def tokenize(text):\n",
    "    return text.split()"
   ]
  },
  {
   "cell_type": "code",
   "execution_count": 9,
   "metadata": {},
   "outputs": [],
   "source": [
    "custom_data['Description'] = custom_data['Description'].astype(str)"
   ]
  },
  {
   "cell_type": "code",
   "execution_count": null,
   "metadata": {},
   "outputs": [],
   "source": [
    "\n",
    "custom_data['Description'] = custom_data['Description'].apply(normalize)  # all data in 'description' must be str, otherwise exception!\n",
    "custom_data"
   ]
  },
  {
   "cell_type": "markdown",
   "metadata": {},
   "source": [
    "### Save clear description data"
   ]
  },
  {
   "cell_type": "code",
   "execution_count": null,
   "metadata": {},
   "outputs": [],
   "source": [
    "custom_data.to_csv('../../data/processed/userItemsClearDesc.csv')"
   ]
  },
  {
   "cell_type": "markdown",
   "metadata": {},
   "source": [
    "## Vectorizing"
   ]
  },
  {
   "cell_type": "code",
   "execution_count": 23,
   "metadata": {},
   "outputs": [],
   "source": [
    "from sklearn.feature_extraction.text import CountVectorizer"
   ]
  },
  {
   "cell_type": "code",
   "execution_count": 25,
   "metadata": {},
   "outputs": [],
   "source": [
    "vectorizer = CountVectorizer()\n",
    "categories_data = vectorizer.fit_transform(custom_data['Description'])\n",
    "categories_voc = vectorizer.vocabulary_"
   ]
  },
  {
   "cell_type": "code",
   "execution_count": 28,
   "metadata": {},
   "outputs": [],
   "source": [
    "custom_data['categories'] = [np.array(row) for row in categories_data.toarray()]\n",
    "custom_data['categories'] = custom_data['categories'] * custom_data['Count']\n",
    "custom_data.drop(['Description', 'Count', 'ItemID'], axis=1, inplace=True)"
   ]
  },
  {
   "cell_type": "code",
   "execution_count": 29,
   "metadata": {},
   "outputs": [
    {
     "data": {
      "text/html": [
       "<div>\n",
       "<style scoped>\n",
       "    .dataframe tbody tr th:only-of-type {\n",
       "        vertical-align: middle;\n",
       "    }\n",
       "\n",
       "    .dataframe tbody tr th {\n",
       "        vertical-align: top;\n",
       "    }\n",
       "\n",
       "    .dataframe thead th {\n",
       "        text-align: right;\n",
       "    }\n",
       "</style>\n",
       "<table border=\"1\" class=\"dataframe\">\n",
       "  <thead>\n",
       "    <tr style=\"text-align: right;\">\n",
       "      <th></th>\n",
       "      <th>UserID</th>\n",
       "      <th>OrderID</th>\n",
       "      <th>categories</th>\n",
       "    </tr>\n",
       "  </thead>\n",
       "  <tbody>\n",
       "    <tr>\n",
       "      <th>0</th>\n",
       "      <td>1</td>\n",
       "      <td>100</td>\n",
       "      <td>[1, 0, 1, 0, 1, 0, 0, 0, 0, 1, 0, 0, 0, 0]</td>\n",
       "    </tr>\n",
       "    <tr>\n",
       "      <th>1</th>\n",
       "      <td>1</td>\n",
       "      <td>100</td>\n",
       "      <td>[0, 0, 0, 1, 0, 1, 0, 0, 1, 0, 1, 0, 0, 0]</td>\n",
       "    </tr>\n",
       "    <tr>\n",
       "      <th>2</th>\n",
       "      <td>1</td>\n",
       "      <td>100</td>\n",
       "      <td>[0, 0, 0, 1, 0, 1, 0, 1, 0, 0, 0, 1, 1, 0]</td>\n",
       "    </tr>\n",
       "    <tr>\n",
       "      <th>3</th>\n",
       "      <td>1</td>\n",
       "      <td>200</td>\n",
       "      <td>[0, 0, 0, 0, 3, 0, 3, 0, 0, 0, 0, 0, 0, 0]</td>\n",
       "    </tr>\n",
       "    <tr>\n",
       "      <th>4</th>\n",
       "      <td>1</td>\n",
       "      <td>200</td>\n",
       "      <td>[0, 0, 4, 0, 0, 0, 0, 0, 0, 0, 0, 0, 0, 0]</td>\n",
       "    </tr>\n",
       "  </tbody>\n",
       "</table>\n",
       "</div>"
      ],
      "text/plain": [
       "   UserID  OrderID                                  categories\n",
       "0       1      100  [1, 0, 1, 0, 1, 0, 0, 0, 0, 1, 0, 0, 0, 0]\n",
       "1       1      100  [0, 0, 0, 1, 0, 1, 0, 0, 1, 0, 1, 0, 0, 0]\n",
       "2       1      100  [0, 0, 0, 1, 0, 1, 0, 1, 0, 0, 0, 1, 1, 0]\n",
       "3       1      200  [0, 0, 0, 0, 3, 0, 3, 0, 0, 0, 0, 0, 0, 0]\n",
       "4       1      200  [0, 0, 4, 0, 0, 0, 0, 0, 0, 0, 0, 0, 0, 0]"
      ]
     },
     "execution_count": 29,
     "metadata": {},
     "output_type": "execute_result"
    }
   ],
   "source": [
    "custom_data.head(5)"
   ]
  },
  {
   "cell_type": "markdown",
   "metadata": {},
   "source": [
    "## GroupBy UserID, OrderID, ItemID"
   ]
  },
  {
   "cell_type": "code",
   "execution_count": 30,
   "metadata": {},
   "outputs": [],
   "source": [
    "cat = sorted(categories_voc.items(), key=lambda kv:kv[1])\n",
    "cat = [c[0] for c in cat]\n",
    "custom_data[cat] = pd.DataFrame(custom_data['categories'].values.tolist(), index = custom_data.index)\n",
    "custom_data.drop('categories', axis=1, inplace=True)"
   ]
  },
  {
   "cell_type": "code",
   "execution_count": 31,
   "metadata": {},
   "outputs": [],
   "source": [
    "categorized_custom_data =custom_data.groupby(['UserID', 'OrderID']).sum().groupby('UserID').mean()"
   ]
  },
  {
   "cell_type": "code",
   "execution_count": 32,
   "metadata": {},
   "outputs": [
    {
     "data": {
      "text/html": [
       "<div>\n",
       "<style scoped>\n",
       "    .dataframe tbody tr th:only-of-type {\n",
       "        vertical-align: middle;\n",
       "    }\n",
       "\n",
       "    .dataframe tbody tr th {\n",
       "        vertical-align: top;\n",
       "    }\n",
       "\n",
       "    .dataframe thead th {\n",
       "        text-align: right;\n",
       "    }\n",
       "</style>\n",
       "<table border=\"1\" class=\"dataframe\">\n",
       "  <thead>\n",
       "    <tr style=\"text-align: right;\">\n",
       "      <th></th>\n",
       "      <th>bacon</th>\n",
       "      <th>caesar</th>\n",
       "      <th>cheeseburger</th>\n",
       "      <th>choice</th>\n",
       "      <th>double</th>\n",
       "      <th>drink</th>\n",
       "      <th>fileofish</th>\n",
       "      <th>happy</th>\n",
       "      <th>hashbrow</th>\n",
       "      <th>mccombo</th>\n",
       "      <th>mctoast</th>\n",
       "      <th>mealwith</th>\n",
       "      <th>pancake</th>\n",
       "      <th>roll</th>\n",
       "    </tr>\n",
       "    <tr>\n",
       "      <th>UserID</th>\n",
       "      <th></th>\n",
       "      <th></th>\n",
       "      <th></th>\n",
       "      <th></th>\n",
       "      <th></th>\n",
       "      <th></th>\n",
       "      <th></th>\n",
       "      <th></th>\n",
       "      <th></th>\n",
       "      <th></th>\n",
       "      <th></th>\n",
       "      <th></th>\n",
       "      <th></th>\n",
       "      <th></th>\n",
       "    </tr>\n",
       "  </thead>\n",
       "  <tbody>\n",
       "    <tr>\n",
       "      <th>1</th>\n",
       "      <td>0.5</td>\n",
       "      <td>0.0</td>\n",
       "      <td>2.5</td>\n",
       "      <td>1.0</td>\n",
       "      <td>2.0</td>\n",
       "      <td>1.0</td>\n",
       "      <td>1.5</td>\n",
       "      <td>0.5</td>\n",
       "      <td>0.5</td>\n",
       "      <td>0.5</td>\n",
       "      <td>0.5</td>\n",
       "      <td>0.5</td>\n",
       "      <td>0.5</td>\n",
       "      <td>0.0</td>\n",
       "    </tr>\n",
       "    <tr>\n",
       "      <th>2</th>\n",
       "      <td>0.0</td>\n",
       "      <td>1.0</td>\n",
       "      <td>0.5</td>\n",
       "      <td>0.0</td>\n",
       "      <td>0.0</td>\n",
       "      <td>0.0</td>\n",
       "      <td>0.0</td>\n",
       "      <td>0.0</td>\n",
       "      <td>0.0</td>\n",
       "      <td>1.0</td>\n",
       "      <td>0.0</td>\n",
       "      <td>0.0</td>\n",
       "      <td>0.0</td>\n",
       "      <td>1.0</td>\n",
       "    </tr>\n",
       "    <tr>\n",
       "      <th>3</th>\n",
       "      <td>0.0</td>\n",
       "      <td>0.0</td>\n",
       "      <td>0.0</td>\n",
       "      <td>1.0</td>\n",
       "      <td>0.0</td>\n",
       "      <td>1.0</td>\n",
       "      <td>0.0</td>\n",
       "      <td>1.0</td>\n",
       "      <td>0.0</td>\n",
       "      <td>0.0</td>\n",
       "      <td>0.0</td>\n",
       "      <td>1.0</td>\n",
       "      <td>1.0</td>\n",
       "      <td>0.0</td>\n",
       "    </tr>\n",
       "  </tbody>\n",
       "</table>\n",
       "</div>"
      ],
      "text/plain": [
       "        bacon  caesar  cheeseburger  choice  double  drink  fileofish  happy  \\\n",
       "UserID                                                                         \n",
       "1         0.5     0.0           2.5     1.0     2.0    1.0        1.5    0.5   \n",
       "2         0.0     1.0           0.5     0.0     0.0    0.0        0.0    0.0   \n",
       "3         0.0     0.0           0.0     1.0     0.0    1.0        0.0    1.0   \n",
       "\n",
       "        hashbrow  mccombo  mctoast  mealwith  pancake  roll  \n",
       "UserID                                                       \n",
       "1            0.5      0.5      0.5       0.5      0.5   0.0  \n",
       "2            0.0      1.0      0.0       0.0      0.0   1.0  \n",
       "3            0.0      0.0      0.0       1.0      1.0   0.0  "
      ]
     },
     "execution_count": 32,
     "metadata": {},
     "output_type": "execute_result"
    }
   ],
   "source": [
    "categorized_custom_data.head(5)"
   ]
  },
  {
   "cell_type": "code",
   "execution_count": null,
   "metadata": {},
   "outputs": [],
   "source": []
  }
 ],
 "metadata": {
  "kernelspec": {
   "display_name": "Python 3",
   "language": "python",
   "name": "python3"
  },
  "language_info": {
   "codemirror_mode": {
    "name": "ipython",
    "version": 3
   },
   "file_extension": ".py",
   "mimetype": "text/x-python",
   "name": "python",
   "nbconvert_exporter": "python",
   "pygments_lexer": "ipython3",
   "version": "3.7.3"
  }
 },
 "nbformat": 4,
 "nbformat_minor": 2
}
