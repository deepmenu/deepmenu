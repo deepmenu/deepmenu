{
 "cells": [
  {
   "cell_type": "markdown",
   "metadata": {},
   "source": [
    "## Data preprocessing"
   ]
  },
  {
   "cell_type": "code",
   "execution_count": 1,
   "metadata": {},
   "outputs": [],
   "source": [
    "import pandas as pd\n"
   ]
  },
  {
   "cell_type": "code",
   "execution_count": 33,
   "metadata": {},
   "outputs": [],
   "source": [
    "MI = \"../../data/processed/menu_final.txt\"\n",
    "OI = \"../../data/processed/orderItems_final.txt\"\n",
    "OE = \"../../data/raw/OrderEntry.txt\"\n",
    "\n",
    "\n",
    "menu_item = pd.read_csv(MI)\n",
    "order_item = pd.read_csv(OI)\n",
    "order_entry = pd.read_csv(OE)"
   ]
  },
  {
   "cell_type": "code",
   "execution_count": 34,
   "metadata": {},
   "outputs": [],
   "source": [
    "menu_item = menu_item[['ID','ItemName']]\n",
    "menu_item.columns= ['MenuItemID','ItemName']\n"
   ]
  },
  {
   "cell_type": "code",
   "execution_count": 35,
   "metadata": {},
   "outputs": [
    {
     "data": {
      "text/html": [
       "<div>\n",
       "<style scoped>\n",
       "    .dataframe tbody tr th:only-of-type {\n",
       "        vertical-align: middle;\n",
       "    }\n",
       "\n",
       "    .dataframe tbody tr th {\n",
       "        vertical-align: top;\n",
       "    }\n",
       "\n",
       "    .dataframe thead th {\n",
       "        text-align: right;\n",
       "    }\n",
       "</style>\n",
       "<table border=\"1\" class=\"dataframe\">\n",
       "  <thead>\n",
       "    <tr style=\"text-align: right;\">\n",
       "      <th></th>\n",
       "      <th>MenuItemID</th>\n",
       "      <th>ItemName</th>\n",
       "    </tr>\n",
       "  </thead>\n",
       "  <tbody>\n",
       "    <tr>\n",
       "      <th>0</th>\n",
       "      <td>432</td>\n",
       "      <td>Beer Snacks</td>\n",
       "    </tr>\n",
       "    <tr>\n",
       "      <th>1</th>\n",
       "      <td>433</td>\n",
       "      <td>Grenka with Parmesan 2pcs  210g  bread  cheese...</td>\n",
       "    </tr>\n",
       "    <tr>\n",
       "      <th>2</th>\n",
       "      <td>434</td>\n",
       "      <td>Mix meat chips 60\\100\\30\\24g  beef  pork  crou...</td>\n",
       "    </tr>\n",
       "    <tr>\n",
       "      <th>3</th>\n",
       "      <td>435</td>\n",
       "      <td>Mozzarella sticks with Caesar sauce 140\\30\\5g ...</td>\n",
       "    </tr>\n",
       "    <tr>\n",
       "      <th>4</th>\n",
       "      <td>436</td>\n",
       "      <td>Cold appetizers</td>\n",
       "    </tr>\n",
       "  </tbody>\n",
       "</table>\n",
       "</div>"
      ],
      "text/plain": [
       "   MenuItemID                                           ItemName\n",
       "0         432                                       Beer Snacks \n",
       "1         433  Grenka with Parmesan 2pcs  210g  bread  cheese...\n",
       "2         434  Mix meat chips 60\\100\\30\\24g  beef  pork  crou...\n",
       "3         435  Mozzarella sticks with Caesar sauce 140\\30\\5g ...\n",
       "4         436                                   Cold appetizers "
      ]
     },
     "execution_count": 35,
     "metadata": {},
     "output_type": "execute_result"
    }
   ],
   "source": [
    "\n",
    "menu_item = menu_item[menu_item['MenuItemID'].apply(lambda x: x.isnumeric())]\n",
    "menu_item['MenuItemID'] = menu_item['MenuItemID'].astype(int)\n",
    "\n",
    "\n",
    "menu_item['ItemName'] = menu_item['ItemName'].astype(str)\n",
    "\n",
    "menu_item.head()"
   ]
  },
  {
   "cell_type": "code",
   "execution_count": 36,
   "metadata": {},
   "outputs": [
    {
     "data": {
      "text/html": [
       "<div>\n",
       "<style scoped>\n",
       "    .dataframe tbody tr th:only-of-type {\n",
       "        vertical-align: middle;\n",
       "    }\n",
       "\n",
       "    .dataframe tbody tr th {\n",
       "        vertical-align: top;\n",
       "    }\n",
       "\n",
       "    .dataframe thead th {\n",
       "        text-align: right;\n",
       "    }\n",
       "</style>\n",
       "<table border=\"1\" class=\"dataframe\">\n",
       "  <thead>\n",
       "    <tr style=\"text-align: right;\">\n",
       "      <th></th>\n",
       "      <th>OrderNumber</th>\n",
       "      <th>MenuItemID</th>\n",
       "      <th>Qty</th>\n",
       "    </tr>\n",
       "  </thead>\n",
       "  <tbody>\n",
       "    <tr>\n",
       "      <th>0</th>\n",
       "      <td>3.0</td>\n",
       "      <td>57</td>\n",
       "      <td>1.0</td>\n",
       "    </tr>\n",
       "    <tr>\n",
       "      <th>1</th>\n",
       "      <td>6.0</td>\n",
       "      <td>126</td>\n",
       "      <td>1.0</td>\n",
       "    </tr>\n",
       "    <tr>\n",
       "      <th>2</th>\n",
       "      <td>6.0</td>\n",
       "      <td>106</td>\n",
       "      <td>1.0</td>\n",
       "    </tr>\n",
       "    <tr>\n",
       "      <th>3</th>\n",
       "      <td>6.0</td>\n",
       "      <td>96</td>\n",
       "      <td>1.0</td>\n",
       "    </tr>\n",
       "    <tr>\n",
       "      <th>4</th>\n",
       "      <td>7.0</td>\n",
       "      <td>52</td>\n",
       "      <td>1.0</td>\n",
       "    </tr>\n",
       "  </tbody>\n",
       "</table>\n",
       "</div>"
      ],
      "text/plain": [
       "   OrderNumber  MenuItemID  Qty\n",
       "0          3.0          57  1.0\n",
       "1          6.0         126  1.0\n",
       "2          6.0         106  1.0\n",
       "3          6.0          96  1.0\n",
       "4          7.0          52  1.0"
      ]
     },
     "execution_count": 36,
     "metadata": {},
     "output_type": "execute_result"
    }
   ],
   "source": [
    "order_item = order_item[['OrderNumber','MenuItemID', 'Qty']]\n",
    "\n",
    "order_item = order_item[order_item['MenuItemID'].notnull()]\n",
    "order_item['MenuItemID'] = order_item['MenuItemID'].astype(int)\n",
    "\n",
    "order_item.head()"
   ]
  },
  {
   "cell_type": "code",
   "execution_count": 37,
   "metadata": {},
   "outputs": [
    {
     "data": {
      "text/html": [
       "<div>\n",
       "<style scoped>\n",
       "    .dataframe tbody tr th:only-of-type {\n",
       "        vertical-align: middle;\n",
       "    }\n",
       "\n",
       "    .dataframe tbody tr th {\n",
       "        vertical-align: top;\n",
       "    }\n",
       "\n",
       "    .dataframe thead th {\n",
       "        text-align: right;\n",
       "    }\n",
       "</style>\n",
       "<table border=\"1\" class=\"dataframe\">\n",
       "  <thead>\n",
       "    <tr style=\"text-align: right;\">\n",
       "      <th></th>\n",
       "      <th>OrderNumber</th>\n",
       "      <th>Customer</th>\n",
       "    </tr>\n",
       "  </thead>\n",
       "  <tbody>\n",
       "    <tr>\n",
       "      <th>0</th>\n",
       "      <td>104376</td>\n",
       "      <td>59960</td>\n",
       "    </tr>\n",
       "    <tr>\n",
       "      <th>1</th>\n",
       "      <td>104377</td>\n",
       "      <td>59968</td>\n",
       "    </tr>\n",
       "    <tr>\n",
       "      <th>2</th>\n",
       "      <td>104378</td>\n",
       "      <td>54779</td>\n",
       "    </tr>\n",
       "    <tr>\n",
       "      <th>3</th>\n",
       "      <td>104379</td>\n",
       "      <td>30143</td>\n",
       "    </tr>\n",
       "    <tr>\n",
       "      <th>4</th>\n",
       "      <td>104380</td>\n",
       "      <td>59971</td>\n",
       "    </tr>\n",
       "  </tbody>\n",
       "</table>\n",
       "</div>"
      ],
      "text/plain": [
       "   OrderNumber  Customer\n",
       "0       104376     59960\n",
       "1       104377     59968\n",
       "2       104378     54779\n",
       "3       104379     30143\n",
       "4       104380     59971"
      ]
     },
     "execution_count": 37,
     "metadata": {},
     "output_type": "execute_result"
    }
   ],
   "source": [
    "customers = order_entry[['ID','Customer']]\n",
    "customers.columns = ['OrderNumber','Customer']\n",
    "customers.head()"
   ]
  },
  {
   "cell_type": "code",
   "execution_count": 38,
   "metadata": {},
   "outputs": [],
   "source": [
    "merged = customers.merge(order_item, how='left', on='OrderNumber')\n",
    "\n",
    "merged = merged[merged['MenuItemID'].notnull()]\n",
    "merged['MenuItemID'] = merged['MenuItemID'].astype(int)\n",
    "\n",
    "merged = merged.merge(menu_item, how='left', on='MenuItemID')\n",
    "\n"
   ]
  },
  {
   "cell_type": "code",
   "execution_count": 45,
   "metadata": {},
   "outputs": [],
   "source": [
    "merged.columns = ['OrderID', 'UserID', 'ItemID', 'Number','Description']\n",
    "merged = merged[['UserID','OrderID','ItemID', 'Number','Description']]    \n",
    "\n",
    "merged['Description'] = merged['Description'].astype(str)"
   ]
  },
  {
   "cell_type": "code",
   "execution_count": 46,
   "metadata": {},
   "outputs": [
    {
     "data": {
      "text/html": [
       "<div>\n",
       "<style scoped>\n",
       "    .dataframe tbody tr th:only-of-type {\n",
       "        vertical-align: middle;\n",
       "    }\n",
       "\n",
       "    .dataframe tbody tr th {\n",
       "        vertical-align: top;\n",
       "    }\n",
       "\n",
       "    .dataframe thead th {\n",
       "        text-align: right;\n",
       "    }\n",
       "</style>\n",
       "<table border=\"1\" class=\"dataframe\">\n",
       "  <thead>\n",
       "    <tr style=\"text-align: right;\">\n",
       "      <th></th>\n",
       "      <th>UserID</th>\n",
       "      <th>OrderID</th>\n",
       "      <th>ItemID</th>\n",
       "      <th>Number</th>\n",
       "      <th>Description</th>\n",
       "    </tr>\n",
       "  </thead>\n",
       "  <tbody>\n",
       "    <tr>\n",
       "      <th>0</th>\n",
       "      <td>59960</td>\n",
       "      <td>104376</td>\n",
       "      <td>16489</td>\n",
       "      <td>2.0</td>\n",
       "      <td>Classic kebab with lamb 380g  lavash  lamb  pi...</td>\n",
       "    </tr>\n",
       "    <tr>\n",
       "      <th>1</th>\n",
       "      <td>59968</td>\n",
       "      <td>104377</td>\n",
       "      <td>2320</td>\n",
       "      <td>1.0</td>\n",
       "      <td>Whopper with cheese Set whopper with cheese  v...</td>\n",
       "    </tr>\n",
       "    <tr>\n",
       "      <th>2</th>\n",
       "      <td>54779</td>\n",
       "      <td>104378</td>\n",
       "      <td>10745</td>\n",
       "      <td>1.0</td>\n",
       "      <td>Falafel 350g</td>\n",
       "    </tr>\n",
       "    <tr>\n",
       "      <th>3</th>\n",
       "      <td>54779</td>\n",
       "      <td>104378</td>\n",
       "      <td>12098</td>\n",
       "      <td>1.0</td>\n",
       "      <td>Vegetarian shawarma 400g  cheese  mushrooms  t...</td>\n",
       "    </tr>\n",
       "    <tr>\n",
       "      <th>4</th>\n",
       "      <td>30143</td>\n",
       "      <td>104379</td>\n",
       "      <td>18732</td>\n",
       "      <td>2.0</td>\n",
       "      <td>Kagatsu maki 8pcs  116g  rice  nori  cheese Ph...</td>\n",
       "    </tr>\n",
       "  </tbody>\n",
       "</table>\n",
       "</div>"
      ],
      "text/plain": [
       "   UserID  OrderID  ItemID  Number  \\\n",
       "0   59960   104376   16489     2.0   \n",
       "1   59968   104377    2320     1.0   \n",
       "2   54779   104378   10745     1.0   \n",
       "3   54779   104378   12098     1.0   \n",
       "4   30143   104379   18732     2.0   \n",
       "\n",
       "                                         Description  \n",
       "0  Classic kebab with lamb 380g  lavash  lamb  pi...  \n",
       "1  Whopper with cheese Set whopper with cheese  v...  \n",
       "2                                       Falafel 350g  \n",
       "3  Vegetarian shawarma 400g  cheese  mushrooms  t...  \n",
       "4  Kagatsu maki 8pcs  116g  rice  nori  cheese Ph...  "
      ]
     },
     "execution_count": 46,
     "metadata": {},
     "output_type": "execute_result"
    }
   ],
   "source": [
    "merged.head()"
   ]
  },
  {
   "cell_type": "code",
   "execution_count": 47,
   "metadata": {},
   "outputs": [
    {
     "data": {
      "text/plain": [
       "UserID           int64\n",
       "OrderID          int64\n",
       "ItemID           int64\n",
       "Number         float64\n",
       "Description     object\n",
       "dtype: object"
      ]
     },
     "execution_count": 47,
     "metadata": {},
     "output_type": "execute_result"
    }
   ],
   "source": [
    "merged.dtypes"
   ]
  },
  {
   "cell_type": "code",
   "execution_count": 27,
   "metadata": {},
   "outputs": [],
   "source": [
    "merged.to_csv(\"../../data/processed/userItems.csv\")"
   ]
  },
  {
   "cell_type": "code",
   "execution_count": 29,
   "metadata": {},
   "outputs": [
    {
     "data": {
      "text/plain": [
       "UserID           int64\n",
       "OrderID          int64\n",
       "ItemID           int64\n",
       "Number         float64\n",
       "Description     object\n",
       "dtype: object"
      ]
     },
     "execution_count": 29,
     "metadata": {},
     "output_type": "execute_result"
    }
   ],
   "source": []
  },
  {
   "cell_type": "code",
   "execution_count": null,
   "metadata": {},
   "outputs": [],
   "source": []
  }
 ],
 "metadata": {
  "kernelspec": {
   "display_name": "Python 3",
   "language": "python",
   "name": "python3"
  },
  "language_info": {
   "codemirror_mode": {
    "name": "ipython",
    "version": 3
   },
   "file_extension": ".py",
   "mimetype": "text/x-python",
   "name": "python",
   "nbconvert_exporter": "python",
   "pygments_lexer": "ipython3",
   "version": "3.7.1"
  }
 },
 "nbformat": 4,
 "nbformat_minor": 2
}
